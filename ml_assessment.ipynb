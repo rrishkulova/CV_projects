{
 "cells": [
  {
   "cell_type": "markdown",
   "id": "55ecbcc0",
   "metadata": {},
   "source": [
    "<b>Подгрузите датасет, отобразите структурную информацию, дайте комментарии по датасету</b>"
   ]
  },
  {
   "cell_type": "code",
   "execution_count": null,
   "id": "286ec3f6",
   "metadata": {},
   "outputs": [],
   "source": []
  },
  {
   "cell_type": "markdown",
   "id": "54b6c638",
   "metadata": {},
   "source": [
    "## Визуализация\n",
    "\n",
    "* <b>Какие виды/подвиды типов данных используются в машинном обучении?</b>  \n",
    "    * Числовые (дискретные, непрерывные) \n",
    "    * Категориальные (порядковые, номинальные)       "
   ]
  },
  {
   "cell_type": "markdown",
   "id": "4bd270d2",
   "metadata": {},
   "source": [
    "> ответ тут"
   ]
  },
  {
   "cell_type": "markdown",
   "id": "127058fb",
   "metadata": {},
   "source": [
    "\n",
    "* <b>С помощью чего можно отобразить распределение каждого из признаков?</b>"
   ]
  },
  {
   "cell_type": "markdown",
   "id": "f8ea46a4",
   "metadata": {},
   "source": [
    "> ответ тут"
   ]
  },
  {
   "cell_type": "markdown",
   "id": "e1367114",
   "metadata": {},
   "source": [
    "* <b>Создайте переменные <i>numeric_features, categorical_features</i>, в которые запишите название столбцов числовых и категориальных признаков</b>\n",
    "* <b>Отобразите распределения всех признаков</b> (можно в одной фигуре все числовые, в другой все категориальные)\n",
    "* <b>Отобразите основные зависимости</b> (начать с матрицы корреляций и вывести зависимости таргета с самыми значимыми)"
   ]
  },
  {
   "cell_type": "code",
   "execution_count": null,
   "id": "3b1f806d",
   "metadata": {},
   "outputs": [],
   "source": []
  },
  {
   "cell_type": "markdown",
   "id": "ffb089f0",
   "metadata": {},
   "source": [
    "## Работа с пропусками  \n",
    "\n",
    "* <b>какими способами можно обработать пропуски:</b>\n",
    "    - в категориальных переменных\n",
    "      > ответ тут\n",
    "    - в числовых переменных\n",
    "      > ответ тут\n",
    "    \n",
    "* <b>Какие плюсы у того или иного способа</b>\n",
    "\n",
    "  > овтет тут\n",
    "\n"
   ]
  },
  {
   "cell_type": "markdown",
   "id": "2d14ff4d",
   "metadata": {},
   "source": [
    "* <b>Заполните пропуски способом, который считаете нужным</b>"
   ]
  },
  {
   "cell_type": "code",
   "execution_count": null,
   "id": "ad848f22",
   "metadata": {},
   "outputs": [],
   "source": []
  },
  {
   "cell_type": "markdown",
   "id": "847376e0",
   "metadata": {},
   "source": [
    "## Статистика\n",
    "\n"
   ]
  },
  {
   "cell_type": "markdown",
   "id": "88f797fc",
   "metadata": {},
   "source": [
    "* <b>Что такое t-test/z-test и для чего он применяется?</b>"
   ]
  },
  {
   "cell_type": "markdown",
   "id": "7ea3c5d8",
   "metadata": {},
   "source": [
    "> ответ тут"
   ]
  },
  {
   "cell_type": "markdown",
   "id": "bfad983a",
   "metadata": {},
   "source": [
    "* <b>Примените t-test для проверки значимости признака `balance` в разрезе класса</b> и прокомментируйте поулученный результат"
   ]
  },
  {
   "cell_type": "code",
   "execution_count": null,
   "id": "736c13f4",
   "metadata": {},
   "outputs": [],
   "source": []
  },
  {
   "cell_type": "markdown",
   "id": "b51d9616",
   "metadata": {},
   "source": [
    "> комментарий по результатам теста"
   ]
  },
  {
   "cell_type": "markdown",
   "id": "70e876a0",
   "metadata": {},
   "source": [
    "## Кодирование категориальных перменных\n",
    "\n",
    "* <b>Для чего нужно кодировать категориальные переменные?</b>\n",
    "    > ответ тут\n",
    "* <b>Какие способы кодирования категориальных переменных вам известно</b>\n",
    "    > ответ тут"
   ]
  },
  {
   "cell_type": "markdown",
   "id": "85c9977b",
   "metadata": {},
   "source": [
    "* <b>Закодируйте переменные соответствующим способом</b>"
   ]
  },
  {
   "cell_type": "code",
   "execution_count": null,
   "id": "78b870c6",
   "metadata": {},
   "outputs": [],
   "source": []
  },
  {
   "cell_type": "markdown",
   "id": "bb30dfe8",
   "metadata": {},
   "source": [
    "## Scaling"
   ]
  },
  {
   "cell_type": "markdown",
   "id": "bbd28c24",
   "metadata": {},
   "source": [
    "* <b>Какие основные Scaler'ы знаете</b>\n",
    "    > ответ тут\n",
    "* <b>Для чего это нужно</b>\n",
    "    > ответ тут"
   ]
  },
  {
   "cell_type": "markdown",
   "id": "d66d44ad",
   "metadata": {},
   "source": [
    "* <b>Отобразите боксплоты, отмасштабируйте свои признаки</b>"
   ]
  },
  {
   "cell_type": "code",
   "execution_count": null,
   "id": "7441c223",
   "metadata": {},
   "outputs": [],
   "source": []
  },
  {
   "cell_type": "markdown",
   "id": "a73d6f50",
   "metadata": {},
   "source": [
    "# Классификация"
   ]
  },
  {
   "cell_type": "markdown",
   "id": "ee5655e3",
   "metadata": {},
   "source": [
    "Решите задачу классификации для переменной `y` и сформируйте файл для `submission`. Не забывай, что твоя первая модель `baseline` - должна быть самой простой с точки зрения предобработки и настройки.\n",
    "\n",
    "❗️ Столбец с предсказаниями в файле `submission.csv` должен называться `predict`. Если он будет называться иначе, файл не пройдет валидацию. \\\n",
    "❗️ Обратите внимание, что `ID` в файле `test.csv` и `submission.csv` совпадают. Решить задачу нужно для каждого конкретного `ID`.  "
   ]
  },
  {
   "cell_type": "code",
   "execution_count": 26,
   "id": "11c83243",
   "metadata": {},
   "outputs": [],
   "source": [
    "import pandas as pd\n",
    "\n",
    "assert len(pd.read_csv('data/test.csv')) == len(pd.read_csv('data/submission.csv')), \\\n",
    "    'Lengths of files are mismatch!'"
   ]
  }
 ],
 "metadata": {
  "kernelspec": {
   "display_name": "Python 3.9.12 ('base')",
   "language": "python",
   "name": "python3"
  },
  "language_info": {
   "codemirror_mode": {
    "name": "ipython",
    "version": 3
   },
   "file_extension": ".py",
   "mimetype": "text/x-python",
   "name": "python",
   "nbconvert_exporter": "python",
   "pygments_lexer": "ipython3",
   "version": "3.9.12"
  },
  "vscode": {
   "interpreter": {
    "hash": "73ec0c878552fcb71893c22b7af2c9be9210ef33785c90eb804f443984ec4506"
   }
  }
 },
 "nbformat": 4,
 "nbformat_minor": 5
}
